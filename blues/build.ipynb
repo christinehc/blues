{
 "cells": [
  {
   "cell_type": "code",
   "execution_count": 2,
   "metadata": {},
   "outputs": [],
   "source": [
    "import os\n",
    "from IPython.display import Image\n",
    "import numpy as np\n",
    "from rdkit import Chem\n",
    "from rdkit.Chem import AllChem, Draw"
   ]
  },
  {
   "cell_type": "code",
   "execution_count": 3,
   "metadata": {},
   "outputs": [],
   "source": [
    "def order_atoms(filename='atom_list.txt'):\n",
    "    \"\"\"list out the txt file containing all atoms in the molecule, order the same as JANPA output and eliminate whitespace\"\"\"\n",
    "    with open(filename) as f:\n",
    "        atoms = f.readlines()\n",
    "        atoms = [atom.strip() for atom in atoms]\n",
    "    \n",
    "    return atoms"
   ]
  },
  {
   "cell_type": "code",
   "execution_count": 4,
   "metadata": {},
   "outputs": [],
   "source": [
    "atoms = order_atoms()"
   ]
  },
  {
   "cell_type": "code",
   "execution_count": 5,
   "metadata": {},
   "outputs": [],
   "source": [
    "def add_atoms(atoms):\n",
    "    \"\"\"add atoms and correct bonds to build molecule\"\"\"\n",
    "    # create molecule under RWMol class, easily editable\n",
    "    mol = Chem.RWMol()\n",
    "    # call function to order atoms\n",
    "    order_atoms()\n",
    "    # add all atoms to molecule\n",
    "    for atom in atoms:\n",
    "        mol.AddAtom(Chem.Atom(atom))\n",
    "    return mol\n",
    "        "
   ]
  },
  {
   "cell_type": "code",
   "execution_count": 6,
   "metadata": {},
   "outputs": [
    {
     "data": {
      "text/plain": [
       "rdkit.Chem.rdchem.RWMol"
      ]
     },
     "execution_count": 6,
     "metadata": {},
     "output_type": "execute_result"
    }
   ],
   "source": [
    "output = add_atoms(atoms)\n",
    "type(output)"
   ]
  },
  {
   "cell_type": "code",
   "execution_count": 25,
   "metadata": {},
   "outputs": [],
   "source": [
    "def build_molecule(bonding_matrix):\n",
    "    \"\"\"Takes connection matrix and builds the molecule with RDKit\"\"\"\n",
    "    # add bonds from connection matrix built from bondorders.py\n",
    "    bonds = bonding_matrix\n",
    "    # ensure matrix is square\n",
    "    assert bonding_matrix.shape[0] == bonding_matrix.shape[1], 'matrix must be square!'\n",
    "    # ensure diagonals don't equal 0\n",
    "    for i in range(bonding_matrix.shape[0]):\n",
    "        assert bonding_matrix[i,i] != 0, 'diagonals cannot equal 0'\n",
    "    for i, j in zip(*np.triu_indices_from(bonds, 1)):\n",
    "        if np.isclose(bonds[i, j], 1):\n",
    "            mol.AddBond(int(i), int(j), Chem.BondType.SINGLE)\n",
    "        elif np.isclose(bonds[i, j], 1.5):\n",
    "            mol.AddBond(int(i), int(j), Chem.BondType.AROMATIC)\n",
    "        elif np.isclose(bonds[i, j], 2):\n",
    "            mol.AddBond(int(i), int(j), Chem.BondType.DOUBLE)\n",
    "        elif np.isclose(bonds[i, j], 3):\n",
    "            mol.AddBond(int(i), int(j), Chem.BondType.TRIPLE)\n",
    "        elif np.isclose(bonds[i, j], 0):\n",
    "            pass\n",
    "        else:\n",
    "            raise Exception('indeterminate or nonphysical bond type!')\n",
    "    # Do not show hydrogens\n",
    "    mol = add_atoms(atoms)\n",
    "    for at in mol.GetAtoms():\n",
    "        at.SetNoImplicit(True)\n",
    "    return mol"
   ]
  },
  {
   "cell_type": "code",
   "execution_count": 8,
   "metadata": {},
   "outputs": [],
   "source": [
    "def draw_molecule(mol):\n",
    "    \"\"\"represent built molecule as 2 and 3 dimensional images\"\"\"\n",
    "    # use RDKit internal check to verify molecule is physical\n",
    "    Chem.SanitizeMol(mol)\n",
    "    mol_noH = Chem.RemoveHs(mol)\n",
    "    # 2d representation of molecule\n",
    "    two_d = Draw.MolToImage(mol_noH)\n",
    "    # 3d picture\n",
    "    three_d = Image('mol.png', width=400)\n",
    "    inchi = \"InChI: {}\".format(Chem.MolToInchi(mol_noH))\n",
    "    smiles = \"SMILES: {}\".format(Chem.MolToSmiles(mol_noH))\n",
    "    \n",
    "    return two_d, three_d, inchi, smiles"
   ]
  },
  {
   "cell_type": "markdown",
   "metadata": {},
   "source": [
    "## Temporary space for testing"
   ]
  },
  {
   "cell_type": "code",
   "execution_count": 16,
   "metadata": {},
   "outputs": [],
   "source": [
    "def test_order_atoms():\n",
    "    \"\"\"   \"\"\"\n",
    "    atoms = order_atoms('test_atom_list.txt')\n",
    "    assert sum(line.isspace() for line in atoms) == 0, 'order_atoms function failed to eliminate whitespace'\n",
    "    actual_length = len(atoms)\n",
    "    assert len(atoms) == 43, 'molecule should have 47 atoms,' + str(actual_length) + ' was counted'\n",
    "    return True\n",
    "\n",
    "\n",
    "def test_add_atoms():\n",
    "    result = add_atoms(atoms)\n",
    "    assert type(result) == Chem.rdchem.RWMol\n",
    "    return True\n",
    "\n",
    "def test_build_molecule():\n",
    "        bond_matrix1 = np.array([[2,0,'a'], [1,1,0],[0,2,1]])\n",
    "        bond_matrix2 = np.array([[1,1,0],[0,2,1]])\n",
    "        bond_matrix3 = np.array([[1,0,1.2],[0,2,0],[0,0,1]])\n",
    "        bond_matrix4 = np.array([[1,0,0],[0,1,0],[0,2,0]])\n",
    "        atoms = order_atoms('test_atom_list.txt')\n",
    "        mol = add_atoms(atoms)\n",
    "        # try string value\n",
    "        try:\n",
    "            build_molecule(bond_matrix1)\n",
    "        except Exception as err:\n",
    "            print(err)\n",
    "        else:\n",
    "            raise Exception('did not catch string input in bonding matrix')\n",
    "        # try non-square matrix\n",
    "        try:\n",
    "            build_molecule(bond_matrix2)\n",
    "        except Exception as err:\n",
    "            print(err)\n",
    "        else:\n",
    "            raise Exception('did not catch non-square matrix')\n",
    "        # try float value\n",
    "        try:\n",
    "            build_molecule(bond_matrix3)\n",
    "        except Exception as err:\n",
    "            print(err)\n",
    "        else:\n",
    "            raise Exception('did not catch float value not close to an integer')\n",
    "        # try 0 value diagonal\n",
    "        try:\n",
    "            build_molecule(bond_matrix4)\n",
    "        except Exception as err:\n",
    "            print(err)\n",
    "        else:\n",
    "            for i in range(bonding_matrix.shape[0]):\n",
    "                print(bonding_matrix[i,i])\n",
    "        #raise Exception('did not catch diagonal value of 0')\n",
    "            \n",
    "        return True\n",
    "        \n"
   ]
  },
  {
   "cell_type": "code",
   "execution_count": 17,
   "metadata": {},
   "outputs": [
    {
     "name": "stdout",
     "output_type": "stream",
     "text": [
      "ufunc 'isfinite' not supported for the input types, and the inputs could not be safely coerced to any supported types according to the casting rule ''safe''\n",
      "matrix must be square!\n",
      "indeterminate or nonphysical bond type!\n",
      "diagonals cannot equal 0\n"
     ]
    },
    {
     "data": {
      "text/plain": [
       "True"
      ]
     },
     "execution_count": 17,
     "metadata": {},
     "output_type": "execute_result"
    }
   ],
   "source": [
    "test_build_molecule()"
   ]
  },
  {
   "cell_type": "code",
   "execution_count": 26,
   "metadata": {},
   "outputs": [
    {
     "ename": "Exception",
     "evalue": "aweofij",
     "output_type": "error",
     "traceback": [
      "\u001b[1;31m---------------------------------------------------------------------------\u001b[0m",
      "\u001b[1;31mException\u001b[0m                                 Traceback (most recent call last)",
      "\u001b[1;32m<ipython-input-26-fab916480c00>\u001b[0m in \u001b[0;36m<module>\u001b[1;34m()\u001b[0m\n\u001b[0;32m      6\u001b[0m     \u001b[0mprint\u001b[0m\u001b[1;33m(\u001b[0m\u001b[0merr\u001b[0m\u001b[1;33m)\u001b[0m\u001b[1;33m\u001b[0m\u001b[0m\n\u001b[0;32m      7\u001b[0m \u001b[1;32melse\u001b[0m\u001b[1;33m:\u001b[0m\u001b[1;33m\u001b[0m\u001b[0m\n\u001b[1;32m----> 8\u001b[1;33m     \u001b[1;32mraise\u001b[0m \u001b[0mException\u001b[0m\u001b[1;33m(\u001b[0m\u001b[1;34m'aweofij'\u001b[0m\u001b[1;33m)\u001b[0m\u001b[1;33m\u001b[0m\u001b[0m\n\u001b[0m\u001b[0;32m      9\u001b[0m \u001b[1;31m#for i in range(bonding_matrix.shape[0]):\u001b[0m\u001b[1;33m\u001b[0m\u001b[1;33m\u001b[0m\u001b[0m\n\u001b[0;32m     10\u001b[0m \u001b[1;31m#print(bonding_matrix[i,i])\u001b[0m\u001b[1;33m\u001b[0m\u001b[1;33m\u001b[0m\u001b[0m\n",
      "\u001b[1;31mException\u001b[0m: aweofij"
     ]
    }
   ],
   "source": [
    "bond_matrix4 = np.array([[1,0,0],[0,2,0],[0,2,3]])\n",
    "\n",
    "try:\n",
    "    build_molecule(bond_matrix4)\n",
    "except Exception as err:\n",
    "    print(err)\n",
    "else:\n",
    "    raise Exception('aweofij')\n",
    "#for i in range(bonding_matrix.shape[0]):\n",
    "#print(bonding_matrix[i,i])"
   ]
  },
  {
   "cell_type": "code",
   "execution_count": 27,
   "metadata": {},
   "outputs": [
    {
     "data": {
      "text/plain": [
       "<rdkit.Chem.rdchem.RWMol at 0x18f242cf960>"
      ]
     },
     "execution_count": 27,
     "metadata": {},
     "output_type": "execute_result"
    }
   ],
   "source": [
    "bond_matrix4 = np.array([[1,0,0],[0,2,0],[0,2,3]])\n",
    "build_molecule(bond_matrix4)"
   ]
  },
  {
   "cell_type": "code",
   "execution_count": null,
   "metadata": {},
   "outputs": [],
   "source": []
  },
  {
   "cell_type": "code",
   "execution_count": null,
   "metadata": {},
   "outputs": [],
   "source": []
  },
  {
   "cell_type": "code",
   "execution_count": null,
   "metadata": {},
   "outputs": [],
   "source": []
  },
  {
   "cell_type": "code",
   "execution_count": null,
   "metadata": {},
   "outputs": [],
   "source": []
  }
 ],
 "metadata": {
  "kernelspec": {
   "display_name": "Python 3",
   "language": "python",
   "name": "python3"
  },
  "language_info": {
   "codemirror_mode": {
    "name": "ipython",
    "version": 3
   },
   "file_extension": ".py",
   "mimetype": "text/x-python",
   "name": "python",
   "nbconvert_exporter": "python",
   "pygments_lexer": "ipython3",
   "version": "3.6.3"
  }
 },
 "nbformat": 4,
 "nbformat_minor": 2
}
