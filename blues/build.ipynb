{
 "cells": [
  {
   "cell_type": "code",
   "execution_count": 9,
   "metadata": {},
   "outputs": [],
   "source": [
    "import os\n",
    "from IPython.display import Image\n",
    "import numpy as np\n",
    "from rdkit import Chem\n",
    "from rdkit.Chem import AllChem, Draw"
   ]
  },
  {
   "cell_type": "code",
   "execution_count": null,
   "metadata": {},
   "outputs": [],
   "source": [
    "def order_atoms(filename='atom_list.txt'):\n",
    "    \"\"\"list out the txt file containing all atoms in the molecule, order the same as JANPA output and eliminate whitespace\"\"\"\n",
    "    with open(filename) as f:\n",
    "        atoms = f.readlines()\n",
    "        atoms = [atom.strip() for atom in atoms]\n",
    "    return atoms"
   ]
  },
  {
   "cell_type": "code",
   "execution_count": null,
   "metadata": {},
   "outputs": [],
   "source": [
    "def add_atoms(atoms):\n",
    "    \"\"\"add atoms and correct bonds to build molecule\"\"\"\n",
    "    # create molecule under RWMol class, easily editable\n",
    "    mol = Chem.RWMol()\n",
    "    # call function to order atoms\n",
    "    order_atoms()\n",
    "    # add all atoms to molecule\n",
    "    for atom in atoms:\n",
    "        mol.AddAtom(Chem.Atom(atom))\n",
    "        "
   ]
  },
  {
   "cell_type": "code",
   "execution_count": 31,
   "metadata": {},
   "outputs": [],
   "source": [
    "def build_molecule(bonding_matrix):\n",
    "    \"\"\"Takes connection matrix and builds the molecule with RDKit\"\"\"\n",
    "    # add bonds from connection matrix built from bondorders.py\n",
    "    bond = bonding_matrix\n",
    "    for i, j in zip(*np.triu_indices_from(bond, 1)):\n",
    "        if np.isclose(bonds[i, j], 1):\n",
    "            mol.AddBond(int(i), int(j), Chem.BondType.SINGLE)\n",
    "        elif np.isclose(bonds[i, j], 1.5):\n",
    "            mol.AddBond(int(i), int(j), Chem.BondType.AROMATIC)\n",
    "        elif np.isclose(bonds[i, j], 2):\n",
    "            mol.AddBond(int(i), int(j), Chem.BondType.DOUBLE)\n",
    "        elif np.isclose(bonds[i, j], 3):\n",
    "            mol.AddBond(int(i), int(j), Chem.BondType.TRIPLE)\n",
    "        else:\n",
    "            raise Exception('indeterminate or nonphysical bond type!')\n",
    "    # Do not show hydrogens  \n",
    "    for at in mol.GetAtoms():\n",
    "        at.SetNoImplicit(True)\n",
    "    return mol"
   ]
  },
  {
   "cell_type": "code",
   "execution_count": 32,
   "metadata": {},
   "outputs": [],
   "source": [
    "def draw_molecule(mol):\n",
    "    \"\"\"represent built molecule as 2 and 3 dimensional images\"\"\"\n",
    "    # use RDKit internal check to verify molecule is physical\n",
    "    Chem.SanitizeMol(mol)\n",
    "    mol_noH = Chem.RemoveHs(mol)\n",
    "    # 2d representation of molecule\n",
    "    two_d = Draw.MolToImage(mol_noH)\n",
    "    # 3d picture\n",
    "    three_d = Image('mol.png', width=400)\n",
    "    inchi = \"InChI: {}\".format(Chem.MolToInchi(mol_noH))\n",
    "    smiles = \"SMILES: {}\".format(Chem.MolToSmiles(mol_noH))\n",
    "    \n",
    "    return two_d, three_d, inchi, smiles"
   ]
  },
  {
   "cell_type": "code",
   "execution_count": null,
   "metadata": {},
   "outputs": [],
   "source": []
  },
  {
   "cell_type": "code",
   "execution_count": null,
   "metadata": {},
   "outputs": [],
   "source": []
  },
  {
   "cell_type": "code",
   "execution_count": null,
   "metadata": {},
   "outputs": [],
   "source": []
  }
 ],
 "metadata": {
  "kernelspec": {
   "display_name": "Python 3",
   "language": "python",
   "name": "python3"
  },
  "language_info": {
   "codemirror_mode": {
    "name": "ipython",
    "version": 3
   },
   "file_extension": ".py",
   "mimetype": "text/x-python",
   "name": "python",
   "nbconvert_exporter": "python",
   "pygments_lexer": "ipython3",
   "version": "3.6.3"
  }
 },
 "nbformat": 4,
 "nbformat_minor": 2
}
