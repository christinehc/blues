{
 "cells": [
  {
   "cell_type": "code",
   "execution_count": 19,
   "metadata": {},
   "outputs": [],
   "source": [
    "import os\n",
    "from IPython.display import Image\n",
    "import numpy as np\n",
    "from rdkit import Chem\n",
    "from rdkit.Chem import AllChem, Draw"
   ]
  },
  {
   "cell_type": "markdown",
   "metadata": {},
   "source": [
    "### copy the fuctions from testrun & change the return value to fit other ones's functions"
   ]
  },
  {
   "cell_type": "code",
   "execution_count": 20,
   "metadata": {},
   "outputs": [],
   "source": [
    "def tail(f, lines=1, _buffer=4098):\n",
    "    \"\"\"Tail a file and get X lines from the end\"\"\"\n",
    "    # place holder for the lines found\n",
    "    lines_found = []\n",
    "\n",
    "    # block counter will be multiplied by buffer\n",
    "    # to get the block size from the end\n",
    "    block_counter = -1\n",
    "\n",
    "    # loop until we find X lines\n",
    "    while len(lines_found) < lines:\n",
    "        try:\n",
    "            f.seek(block_counter * _buffer, os.SEEK_END)\n",
    "        except IOError:  # either file is too small, or too many lines requested\n",
    "            f.seek(0)\n",
    "            lines_found = f.readlines()\n",
    "            break\n",
    "\n",
    "        lines_found = f.readlines()\n",
    "\n",
    "        # decrement the block counter to get the\n",
    "        # next X bytes\n",
    "        block_counter -= 1\n",
    "\n",
    "    return lines_found[-lines:]"
   ]
  },
  {
   "cell_type": "code",
   "execution_count": 21,
   "metadata": {},
   "outputs": [],
   "source": [
    "def get_bond_orders(filename):\n",
    "    \"\"\"Fetches the bond indices from the end of the JANPA output.\"\"\"\n",
    "    f = open(filename)\n",
    "    lines = tail(f, lines=56)\n",
    "    f.close()\n",
    "\n",
    "    split_lines = [line.split() for line in lines[:-9]]\n",
    "\n",
    "    for line in split_lines:\n",
    "        del line[0:2]\n",
    "        line[0] = line[0][:-1]\n",
    "\n",
    "    n_atoms = len(split_lines)\n",
    "    bond_orders = np.zeros((n_atoms, n_atoms))\n",
    "\n",
    "    indices = np.triu_indices(47)\n",
    "\n",
    "    bond_orders[indices] = [float(item) for sublist in split_lines for item in sublist]\n",
    "    return bond_orders"
   ]
  },
  {
   "cell_type": "code",
   "execution_count": 22,
   "metadata": {},
   "outputs": [],
   "source": [
    "def convert_bond_orders(bond_orders):\n",
    "    \"\"\"Round bond orders to their nearest bond type\"\"\"\n",
    "    for i in range(bond_orders.shape[0]):\n",
    "        for j in range(bond_orders.shape[1]):\n",
    "            if np.isclose(bond_orders[i, j], 1.5, atol=0.15):\n",
    "                bond_orders[i, j] = 1.5\n",
    "            else:\n",
    "                bond_orders[i, j] = int(round(bond_orders[i, j]))\n",
    "    bonding_matrix = bond_orders\n",
    "    return bonding_matrix"
   ]
  },
  {
   "cell_type": "markdown",
   "metadata": {},
   "source": [
    "### test the fuctions"
   ]
  },
  {
   "cell_type": "code",
   "execution_count": 23,
   "metadata": {},
   "outputs": [
    {
     "data": {
      "text/plain": [
       "array([[4.0091e+00, 1.4487e+00, 1.2800e-02, ..., 1.0000e-04, 0.0000e+00,\n",
       "        0.0000e+00],\n",
       "       [0.0000e+00, 4.0095e+00, 1.4575e+00, ..., 0.0000e+00, 1.0000e-04,\n",
       "        1.0000e-04],\n",
       "       [0.0000e+00, 0.0000e+00, 3.9965e+00, ..., 1.0000e-04, 0.0000e+00,\n",
       "        0.0000e+00],\n",
       "       ...,\n",
       "       [0.0000e+00, 0.0000e+00, 0.0000e+00, ..., 9.4380e-01, 0.0000e+00,\n",
       "        0.0000e+00],\n",
       "       [0.0000e+00, 0.0000e+00, 0.0000e+00, ..., 0.0000e+00, 9.6220e-01,\n",
       "        6.0000e-04],\n",
       "       [0.0000e+00, 0.0000e+00, 0.0000e+00, ..., 0.0000e+00, 0.0000e+00,\n",
       "        9.5850e-01]])"
      ]
     },
     "execution_count": 23,
     "metadata": {},
     "output_type": "execute_result"
    }
   ],
   "source": [
    "bond_orders = get_bond_orders('output.janpa')\n",
    "bond_orders"
   ]
  },
  {
   "cell_type": "code",
   "execution_count": 24,
   "metadata": {
    "scrolled": true
   },
   "outputs": [
    {
     "data": {
      "text/plain": [
       "array([[4. , 1.5, 0. , ..., 0. , 0. , 0. ],\n",
       "       [0. , 4. , 1.5, ..., 0. , 0. , 0. ],\n",
       "       [0. , 0. , 4. , ..., 0. , 0. , 0. ],\n",
       "       ...,\n",
       "       [0. , 0. , 0. , ..., 1. , 0. , 0. ],\n",
       "       [0. , 0. , 0. , ..., 0. , 1. , 0. ],\n",
       "       [0. , 0. , 0. , ..., 0. , 0. , 1. ]])"
      ]
     },
     "execution_count": 24,
     "metadata": {},
     "output_type": "execute_result"
    }
   ],
   "source": [
    "bonding_matrix = convert_bond_orders(bond_orders)\n",
    "bonding_matrix"
   ]
  },
  {
   "cell_type": "code",
   "execution_count": 25,
   "metadata": {},
   "outputs": [
    {
     "ename": "FileNotFoundError",
     "evalue": "[Errno 2] No such file or directory: 'bond_order.txt'",
     "output_type": "error",
     "traceback": [
      "\u001b[1;31m---------------------------------------------------------------------------\u001b[0m",
      "\u001b[1;31mFileNotFoundError\u001b[0m                         Traceback (most recent call last)",
      "\u001b[1;32m<ipython-input-25-27ae7474dd0f>\u001b[0m in \u001b[0;36m<module>\u001b[1;34m()\u001b[0m\n\u001b[1;32m----> 1\u001b[1;33m \u001b[1;32mwith\u001b[0m \u001b[0mopen\u001b[0m\u001b[1;33m(\u001b[0m\u001b[1;34m\"bond_order.txt\"\u001b[0m\u001b[1;33m,\u001b[0m \u001b[1;34m'r+'\u001b[0m\u001b[1;33m)\u001b[0m \u001b[1;32mas\u001b[0m \u001b[0mfile\u001b[0m\u001b[1;33m:\u001b[0m\u001b[1;33m\u001b[0m\u001b[0m\n\u001b[0m\u001b[0;32m      2\u001b[0m     \u001b[1;32mfor\u001b[0m \u001b[0mi\u001b[0m \u001b[1;32min\u001b[0m \u001b[0mrange\u001b[0m\u001b[1;33m(\u001b[0m\u001b[0mbonding_matrix\u001b[0m\u001b[1;33m.\u001b[0m\u001b[0mshape\u001b[0m\u001b[1;33m[\u001b[0m\u001b[1;36m0\u001b[0m\u001b[1;33m]\u001b[0m\u001b[1;33m)\u001b[0m\u001b[1;33m:\u001b[0m\u001b[1;33m\u001b[0m\u001b[0m\n\u001b[0;32m      3\u001b[0m         \u001b[1;32mfor\u001b[0m \u001b[0mj\u001b[0m \u001b[1;32min\u001b[0m \u001b[0mrange\u001b[0m\u001b[1;33m(\u001b[0m\u001b[0mbonding_matrix\u001b[0m\u001b[1;33m.\u001b[0m\u001b[0mshape\u001b[0m\u001b[1;33m[\u001b[0m\u001b[1;36m1\u001b[0m\u001b[1;33m]\u001b[0m\u001b[1;33m)\u001b[0m\u001b[1;33m:\u001b[0m\u001b[1;33m\u001b[0m\u001b[0m\n\u001b[0;32m      4\u001b[0m             \u001b[0mfile\u001b[0m\u001b[1;33m.\u001b[0m\u001b[0mwrite\u001b[0m\u001b[1;33m(\u001b[0m\u001b[0mstr\u001b[0m\u001b[1;33m(\u001b[0m\u001b[0mbonding_matrix\u001b[0m\u001b[1;33m[\u001b[0m\u001b[0mi\u001b[0m\u001b[1;33m,\u001b[0m \u001b[0mj\u001b[0m\u001b[1;33m]\u001b[0m\u001b[1;33m)\u001b[0m\u001b[1;33m)\u001b[0m\u001b[1;33m\u001b[0m\u001b[0m\n",
      "\u001b[1;31mFileNotFoundError\u001b[0m: [Errno 2] No such file or directory: 'bond_order.txt'"
     ]
    }
   ],
   "source": [
    "with open(\"bond_order.txt\", 'r+') as file:\n",
    "    for i in range(bonding_matrix.shape[0]):\n",
    "        for j in range(bonding_matrix.shape[1]):\n",
    "            file.write(str(bonding_matrix[i, j]))"
   ]
  },
  {
   "cell_type": "markdown",
   "metadata": {},
   "source": [
    "### write the test fuctions"
   ]
  },
  {
   "cell_type": "code",
   "execution_count": 26,
   "metadata": {},
   "outputs": [],
   "source": [
    "def test_convert_bond_orders():\n",
    "    bond_orders = get_bond_orders('output.janpa')##should be modified\n",
    "    bonding_matrix = convert_bond_orders(bond_orders)\n",
    "    assert bonding_matrix.shape[0] == bonding_matrix.shape[1], \"the bond orders matrix should be square\"\n",
    "    assert bonding_matrix[2][2] > 0, \"the diagonal of the bond orders matrix should be positive\"\n",
    "    return"
   ]
  },
  {
   "cell_type": "code",
   "execution_count": 27,
   "metadata": {
    "scrolled": true
   },
   "outputs": [
    {
     "ename": "AssertionError",
     "evalue": "the diagonal of the bond orders matrix should be positive",
     "output_type": "error",
     "traceback": [
      "\u001b[1;31m---------------------------------------------------------------------------\u001b[0m",
      "\u001b[1;31mAssertionError\u001b[0m                            Traceback (most recent call last)",
      "\u001b[1;32m<ipython-input-27-dd0be7e62d33>\u001b[0m in \u001b[0;36m<module>\u001b[1;34m()\u001b[0m\n\u001b[1;32m----> 1\u001b[1;33m \u001b[1;32massert\u001b[0m \u001b[1;33m-\u001b[0m\u001b[1;36m1\u001b[0m \u001b[1;33m>\u001b[0m \u001b[1;36m0\u001b[0m\u001b[1;33m,\u001b[0m \u001b[1;34m\"the diagonal of the bond orders matrix should be positive\"\u001b[0m\u001b[1;33m\u001b[0m\u001b[0m\n\u001b[0m",
      "\u001b[1;31mAssertionError\u001b[0m: the diagonal of the bond orders matrix should be positive"
     ]
    }
   ],
   "source": [
    "assert -1 > 0, \"the diagonal of the bond orders matrix should be positive\""
   ]
  },
  {
   "cell_type": "markdown",
   "metadata": {},
   "source": [
    "### nosetests"
   ]
  },
  {
   "cell_type": "code",
   "execution_count": 28,
   "metadata": {},
   "outputs": [
    {
     "name": "stdout",
     "output_type": "stream",
     "text": [
      "[WinError 2] The system cannot find the file specified: 'tests'\n",
      "C:\\Users\\sxzxc\\Desktop\\blues\\blues\\tests\n"
     ]
    }
   ],
   "source": [
    "cd tests"
   ]
  },
  {
   "cell_type": "code",
   "execution_count": 30,
   "metadata": {},
   "outputs": [
    {
     "name": "stdout",
     "output_type": "stream",
     "text": [
      "Microsoft Windows [Version 10.0.17134.48]\r\n",
      "(c) 2018 Microsoft Corporation. All rights reserved.\r\n",
      "\r\n",
      "(my-rdkit-env) C:\\Users\\sxzxc\\Desktop\\blues\\blues\\tests>nosetests test_bondorders.py\n",
      "\r\n",
      "(my-rdkit-env) C:\\Users\\sxzxc\\Desktop\\blues\\blues\\tests>"
     ]
    },
    {
     "name": "stderr",
     "output_type": "stream",
     "text": [
      ".\r\n",
      "----------------------------------------------------------------------\r\n",
      "Ran 1 test in 0.057s\r\n",
      "\r\n",
      "OK\r\n"
     ]
    }
   ],
   "source": [
    "%%cmd\n",
    "nosetests test_bondorders.py"
   ]
  },
  {
   "cell_type": "code",
   "execution_count": null,
   "metadata": {},
   "outputs": [],
   "source": []
  }
 ],
 "metadata": {
  "kernelspec": {
   "display_name": "Python 3",
   "language": "python",
   "name": "python3"
  },
  "language_info": {
   "codemirror_mode": {
    "name": "ipython",
    "version": 3
   },
   "file_extension": ".py",
   "mimetype": "text/x-python",
   "name": "python",
   "nbconvert_exporter": "python",
   "pygments_lexer": "ipython3",
   "version": "3.6.4"
  }
 },
 "nbformat": 4,
 "nbformat_minor": 2
}
