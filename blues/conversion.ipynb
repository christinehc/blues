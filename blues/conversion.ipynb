{
 "cells": [
  {
   "cell_type": "code",
   "execution_count": 1,
   "metadata": {},
   "outputs": [],
   "source": [
    "import os\n",
    "from IPython.display import Image\n",
    "import numpy as np\n",
    "from rdkit import Chem\n",
    "from rdkit.Chem import AllChem, Draw"
   ]
  },
  {
   "cell_type": "code",
   "execution_count": 5,
   "metadata": {},
   "outputs": [],
   "source": [
    "def convert_bond_orders(bond_orders):\n",
    "## Round bond orders to their nearest bond type\n",
    "    for i in range(bonds.shape[0]):\n",
    "        for j in range(bonds.shape[1]):\n",
    "            if np.isclose(bonds[i, j], 1.5, atol=0.15):\n",
    "                bonds[i, j] = 1.5\n",
    "            else:\n",
    "                bonds[i, j] = int(round(bonds[i, j]))\n",
    "    bonding_matrix = bounds\n",
    "    return bonding_matrix"
   ]
  },
  {
   "cell_type": "code",
   "execution_count": null,
   "metadata": {},
   "outputs": [],
   "source": []
  }
 ],
 "metadata": {
  "kernelspec": {
   "display_name": "Python 3",
   "language": "python",
   "name": "python3"
  },
  "language_info": {
   "codemirror_mode": {
    "name": "ipython",
    "version": 3
   },
   "file_extension": ".py",
   "mimetype": "text/x-python",
   "name": "python",
   "nbconvert_exporter": "python",
   "pygments_lexer": "ipython3",
   "version": "3.6.4"
  }
 },
 "nbformat": 4,
 "nbformat_minor": 2
}
