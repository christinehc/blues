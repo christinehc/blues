{
 "cells": [
  {
   "cell_type": "code",
   "execution_count": 19,
   "metadata": {},
   "outputs": [],
   "source": [
    "import os\n",
    "from IPython.display import Image\n",
    "import numpy as np\n",
    "from rdkit import Chem\n",
    "from rdkit.Chem import AllChem, Draw"
   ]
  },
  {
   "cell_type": "markdown",
   "metadata": {},
   "source": [
    "### copy the fuctions from testrun & change the return value to fit other ones's functions"
   ]
  },
  {
   "cell_type": "code",
   "execution_count": 20,
   "metadata": {},
   "outputs": [],
   "source": [
    "def tail(f, lines=1, _buffer=4098):\n",
    "    \"\"\"Tail a file and get X lines from the end\"\"\"\n",
    "    # place holder for the lines found\n",
    "    lines_found = []\n",
    "\n",
    "    # block counter will be multiplied by buffer\n",
    "    # to get the block size from the end\n",
    "    block_counter = -1\n",
    "\n",
    "    # loop until we find X lines\n",
    "    while len(lines_found) < lines:\n",
    "        try:\n",
    "            f.seek(block_counter * _buffer, os.SEEK_END)\n",
    "        except IOError:  # either file is too small, or too many lines requested\n",
    "            f.seek(0)\n",
    "            lines_found = f.readlines()\n",
    "            break\n",
    "\n",
    "        lines_found = f.readlines()\n",
    "\n",
    "        # decrement the block counter to get the\n",
    "        # next X bytes\n",
    "        block_counter -= 1\n",
    "\n",
    "    return lines_found[-lines:]"
   ]
  },
  {
   "cell_type": "code",
   "execution_count": 21,
   "metadata": {},
   "outputs": [],
   "source": [
    "def get_bond_orders(filename):\n",
    "    \"\"\"Fetches the bond indices from the end of the JANPA output.\"\"\"\n",
    "    f = open(filename)\n",
    "    lines = tail(f, lines=56)\n",
    "    f.close()\n",
    "\n",
    "    split_lines = [line.split() for line in lines[:-9]]\n",
    "\n",
    "    for line in split_lines:\n",
    "        del line[0:2]\n",
    "        line[0] = line[0][:-1]\n",
    "\n",
    "    n_atoms = len(split_lines)\n",
    "    bond_orders = np.zeros((n_atoms, n_atoms))\n",
    "\n",
    "    indices = np.triu_indices(47)\n",
    "\n",
    "    bond_orders[indices] = [float(item) for sublist in split_lines for item in sublist]\n",
    "    return bond_orders"
   ]
  },
  {
   "cell_type": "code",
   "execution_count": 22,
   "metadata": {},
   "outputs": [],
   "source": [
    "def convert_bond_orders(bond_orders):\n",
    "    \"\"\"Round bond orders to their nearest bond type\"\"\"\n",
    "    for i in range(bond_orders.shape[0]):\n",
    "        for j in range(bond_orders.shape[1]):\n",
    "            if np.isclose(bond_orders[i, j], 1.5, atol=0.15):\n",
    "                bond_orders[i, j] = 1.5\n",
    "            else:\n",
    "                bond_orders[i, j] = int(round(bond_orders[i, j]))\n",
    "    bonding_matrix = bond_orders\n",
    "    return bonding_matrix"
   ]
  },
  {
   "cell_type": "markdown",
   "metadata": {},
   "source": [
    "### test the fuctions"
   ]
  },
  {
   "cell_type": "code",
   "execution_count": 23,
   "metadata": {},
   "outputs": [
    {
     "data": {
      "text/plain": [
       "array([[4.0091e+00, 1.4487e+00, 1.2800e-02, ..., 1.0000e-04, 0.0000e+00,\n",
       "        0.0000e+00],\n",
       "       [0.0000e+00, 4.0095e+00, 1.4575e+00, ..., 0.0000e+00, 1.0000e-04,\n",
       "        1.0000e-04],\n",
       "       [0.0000e+00, 0.0000e+00, 3.9965e+00, ..., 1.0000e-04, 0.0000e+00,\n",
       "        0.0000e+00],\n",
       "       ...,\n",
       "       [0.0000e+00, 0.0000e+00, 0.0000e+00, ..., 9.4380e-01, 0.0000e+00,\n",
       "        0.0000e+00],\n",
       "       [0.0000e+00, 0.0000e+00, 0.0000e+00, ..., 0.0000e+00, 9.6220e-01,\n",
       "        6.0000e-04],\n",
       "       [0.0000e+00, 0.0000e+00, 0.0000e+00, ..., 0.0000e+00, 0.0000e+00,\n",
       "        9.5850e-01]])"
      ]
     },
     "execution_count": 23,
     "metadata": {},
     "output_type": "execute_result"
    }
   ],
   "source": [
    "bond_orders = get_bond_orders('output.janpa')\n",
    "bond_orders"
   ]
  },
  {
   "cell_type": "code",
   "execution_count": 24,
   "metadata": {
    "scrolled": true
   },
   "outputs": [
    {
     "data": {
      "text/plain": [
       "array([[4. , 1.5, 0. , ..., 0. , 0. , 0. ],\n",
       "       [0. , 4. , 1.5, ..., 0. , 0. , 0. ],\n",
       "       [0. , 0. , 4. , ..., 0. , 0. , 0. ],\n",
       "       ...,\n",
       "       [0. , 0. , 0. , ..., 1. , 0. , 0. ],\n",
       "       [0. , 0. , 0. , ..., 0. , 1. , 0. ],\n",
       "       [0. , 0. , 0. , ..., 0. , 0. , 1. ]])"
      ]
     },
     "execution_count": 24,
     "metadata": {},
     "output_type": "execute_result"
    }
   ],
   "source": [
    "bonding_matrix = convert_bond_orders(bond_orders)\n",
    "bonding_matrix"
   ]
  },
  {
   "cell_type": "code",
   "execution_count": 34,
   "metadata": {},
   "outputs": [],
   "source": [
    "np.savetxt('bonding.txt', bonding_matrix)"
   ]
  },
  {
   "cell_type": "markdown",
   "metadata": {},
   "source": [
    "### write the test fuctions"
   ]
  },
  {
   "cell_type": "code",
   "execution_count": 51,
   "metadata": {},
   "outputs": [
    {
     "data": {
      "text/plain": [
       "array([[100.05572198, 100.06466366, 100.05853934, 100.00802093,\n",
       "        100.08141151],\n",
       "       [100.09647313, 100.05992741, 100.09469804, 100.03245655,\n",
       "        100.02723882],\n",
       "       [100.04270739, 100.02478694, 100.07029346, 100.08379386,\n",
       "        100.09130976],\n",
       "       [100.06427315, 100.07511537, 100.03035856, 100.01236016,\n",
       "        100.03713383],\n",
       "       [100.0409027 , 100.00024894, 100.08952878, 100.0824258 ,\n",
       "        100.02250695]])"
      ]
     },
     "execution_count": 51,
     "metadata": {},
     "output_type": "execute_result"
    }
   ],
   "source": [
    "bonding_matrix = np.random.random((5,5))*0.1+100\n",
    "bonding_matrix"
   ]
  },
  {
   "cell_type": "code",
   "execution_count": 53,
   "metadata": {},
   "outputs": [],
   "source": [
    "def test_convert_bond_orders():\n",
    "    bond_orders = np.random.random((5,5))*0.01+1.5\n",
    "    assert convert_bond_orders(bond_orders).shape[0] == convert_bond_orders(bond_orders).shape[1], \"the bond orders matrix should be square\"\n",
    "    assert convert_bond_orders(bond_orders)[2][2] == 1.5, \"all values about 1.5 should be reduced into exact 1.5\"\n",
    "    bond_orders = np.random.random((5,5))*0.1+10\n",
    "    assert convert_bond_orders(bond_orders)[2][2] == 10, \"other values aren't close to 1.5 should be reduced into intager\"\n",
    "    return"
   ]
  },
  {
   "cell_type": "markdown",
   "metadata": {},
   "source": [
    "### nosetests"
   ]
  },
  {
   "cell_type": "code",
   "execution_count": 62,
   "metadata": {},
   "outputs": [
    {
     "name": "stdout",
     "output_type": "stream",
     "text": [
      "C:\\Users\\sxzxc\\Desktop\\blues\\blues\\tests\n"
     ]
    }
   ],
   "source": [
    "cd ../tests"
   ]
  },
  {
   "cell_type": "code",
   "execution_count": 63,
   "metadata": {},
   "outputs": [
    {
     "name": "stdout",
     "output_type": "stream",
     "text": [
      "Microsoft Windows [Version 10.0.17134.48]\r\n",
      "(c) 2018 Microsoft Corporation. All rights reserved.\r\n",
      "\r\n",
      "(my-rdkit-env) C:\\Users\\sxzxc\\Desktop\\blues\\blues\\tests>nosetests test_bondorders.py\n",
      "\r\n",
      "(my-rdkit-env) C:\\Users\\sxzxc\\Desktop\\blues\\blues\\tests>"
     ]
    },
    {
     "name": "stderr",
     "output_type": "stream",
     "text": [
      ".\r\n",
      "----------------------------------------------------------------------\r\n",
      "Ran 1 test in 0.003s\r\n",
      "\r\n",
      "OK\r\n"
     ]
    }
   ],
   "source": [
    "%%cmd\n",
    "nosetests test_bondorders.py"
   ]
  },
  {
   "cell_type": "code",
   "execution_count": 66,
   "metadata": {},
   "outputs": [
    {
     "data": {
      "text/plain": [
       "array([[ 0.85540006,  1.95514738, -1.32279911, -1.58292187, -0.67797952],\n",
       "       [-0.50198462,  0.23821901, -0.32029917, -0.20107096, -0.70446369],\n",
       "       [-1.67151228,  0.0083155 , -0.67799048, -1.47611445, -1.7940283 ],\n",
       "       [-1.21026576,  0.17597615,  0.96559679, -0.6023937 ,  1.57442491],\n",
       "       [ 0.56493612,  1.1226086 , -0.4776737 , -0.64128499, -0.28808397]])"
      ]
     },
     "execution_count": 66,
     "metadata": {},
     "output_type": "execute_result"
    }
   ],
   "source": [
    "np.random.normal(size=(5, 5))"
   ]
  },
  {
   "cell_type": "code",
   "execution_count": null,
   "metadata": {},
   "outputs": [],
   "source": []
  }
 ],
 "metadata": {
  "kernelspec": {
   "display_name": "Python 3",
   "language": "python",
   "name": "python3"
  },
  "language_info": {
   "codemirror_mode": {
    "name": "ipython",
    "version": 3
   },
   "file_extension": ".py",
   "mimetype": "text/x-python",
   "name": "python",
   "nbconvert_exporter": "python",
   "pygments_lexer": "ipython3",
   "version": "3.6.4"
  }
 },
 "nbformat": 4,
 "nbformat_minor": 2
}
