{
 "cells": [
  {
   "cell_type": "code",
   "execution_count": 19,
   "metadata": {},
   "outputs": [],
   "source": [
    "import os\n",
    "import numpy as np"
   ]
  },
  {
   "cell_type": "code",
   "execution_count": 5,
   "metadata": {},
   "outputs": [],
   "source": [
    "def internal_warning_count(filename):\n",
    "    \"\"\"input filename as strings to find number of warnings internal to JANPA output\"\"\"\n",
    "    with open(filename, 'r') as searchfile:\n",
    "        for line in searchfile:\n",
    "            if 'warning(s)' in line:\n",
    "                print ('Internal warnings:' +line[0])"
   ]
  },
  {
   "cell_type": "code",
   "execution_count": 6,
   "metadata": {},
   "outputs": [],
   "source": [
    "def sum_of_charge(filename):\n",
    "    \"\"\"find sum of charges in JANPA file to ensure it equals 0!\"\"\"\n",
    "    with open(filename, 'r') as searchfile:\n",
    "        for line in searchfile:\n",
    "            if 'Sum of electrons charges and the nuclei charges: ' in line:\n",
    "                # split line to isolate number, that's the charge\n",
    "                charge = line.split(':', 1)[1]\n",
    "                print('Total calculated charge = ' +charge)\n",
    "                check_int = charge.split('.', 1)[1]\n",
    "                charge = float(charge)\n",
    "                # check that charge is integer\n",
    "                if not all(check_int == 0 for values in check_int):\n",
    "                    print('Warning: charge is float value')\n",
    "                # check if molecule is neutral\n",
    "                if charge is not 0:\n",
    "                    print('Warning: molecule is not neutral')"
   ]
  },
  {
   "cell_type": "code",
   "execution_count": 7,
   "metadata": {},
   "outputs": [],
   "source": [
    "def find_warning(filename):\n",
    "    \"\"\"list warnings internal to the JANPA file\"\"\"\n",
    "    with open(filename, 'r') as searchfile:\n",
    "        for line in searchfile:\n",
    "            if 'WARNING:' in line:\n",
    "                print (line)"
   ]
  },
  {
   "cell_type": "code",
   "execution_count": 8,
   "metadata": {},
   "outputs": [],
   "source": [
    "def enumerate_warnings(filename):\n",
    "    \"\"\"Input JANPA file and this function will enumerate internal warnings and any issues found with the charge calculation\"\"\"\n",
    "    return sum_of_charge(filename), internal_warning_count(filename), find_warning(filename)"
   ]
  },
  {
   "cell_type": "code",
   "execution_count": 9,
   "metadata": {},
   "outputs": [
    {
     "name": "stdout",
     "output_type": "stream",
     "text": [
      "Total calculated charge =  -1.11411 \n",
      "\n",
      "Warning: charge is float value\n",
      "Warning: molecule is not neutral\n",
      "Internal warnings:3\n",
      "WARNING: molecular orbital normalization problem! This may spoil MO occupancies...\n",
      "\n",
      "WARNING: molecular orbitals seem to be non-orthogonal ?!\n",
      "\n",
      "WARNING: input data seems to be improper!\n",
      "\n"
     ]
    },
    {
     "data": {
      "text/plain": [
       "(None, None, None)"
      ]
     },
     "execution_count": 9,
     "metadata": {},
     "output_type": "execute_result"
    }
   ],
   "source": [
    "enumerate_warnings('test.JANPA')"
   ]
  },
  {
   "cell_type": "code",
   "execution_count": null,
   "metadata": {},
   "outputs": [],
   "source": []
  },
  {
   "cell_type": "code",
   "execution_count": null,
   "metadata": {},
   "outputs": [],
   "source": []
  }
 ],
 "metadata": {
  "kernelspec": {
   "display_name": "Python 3",
   "language": "python",
   "name": "python3"
  },
  "language_info": {
   "codemirror_mode": {
    "name": "ipython",
    "version": 3
   },
   "file_extension": ".py",
   "mimetype": "text/x-python",
   "name": "python",
   "nbconvert_exporter": "python",
   "pygments_lexer": "ipython3",
   "version": "3.6.3"
  }
 },
 "nbformat": 4,
 "nbformat_minor": 2
}
