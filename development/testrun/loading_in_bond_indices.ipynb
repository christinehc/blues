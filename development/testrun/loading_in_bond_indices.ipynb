{
 "cells": [
  {
   "cell_type": "code",
   "execution_count": 26,
   "metadata": {},
   "outputs": [],
   "source": [
    "import os\n",
    "\n",
    "import numpy as np\n",
    "from rdkit import Chem\n",
    "from rdkit.Chem import Draw"
   ]
  },
  {
   "cell_type": "code",
   "execution_count": 2,
   "metadata": {},
   "outputs": [],
   "source": [
    "def tail(f, lines=1, _buffer=4098):\n",
    "    \"\"\"Tail a file and get X lines from the end\"\"\"\n",
    "    # place holder for the lines found\n",
    "    lines_found = []\n",
    "\n",
    "    # block counter will be multiplied by buffer\n",
    "    # to get the block size from the end\n",
    "    block_counter = -1\n",
    "\n",
    "    # loop until we find X lines\n",
    "    while len(lines_found) < lines:\n",
    "        try:\n",
    "            f.seek(block_counter * _buffer, os.SEEK_END)\n",
    "        except IOError:  # either file is too small, or too many lines requested\n",
    "            f.seek(0)\n",
    "            lines_found = f.readlines()\n",
    "            break\n",
    "\n",
    "        lines_found = f.readlines()\n",
    "\n",
    "        # decrement the block counter to get the\n",
    "        # next X bytes\n",
    "        block_counter -= 1\n",
    "\n",
    "    return lines_found[-lines:]"
   ]
  },
  {
   "cell_type": "code",
   "execution_count": 3,
   "metadata": {},
   "outputs": [],
   "source": [
    "def get_bond_indices(filename):\n",
    "    f = open(filename)\n",
    "    lines = tail(f, lines=56)\n",
    "    f.close()\n",
    "\n",
    "    split_lines = [line.split() for line in lines[:-9]]\n",
    "\n",
    "    for line in split_lines:\n",
    "        del line[0:2]\n",
    "        line[0] = line[0][:-1]\n",
    "\n",
    "    n_atoms = len(split_lines)\n",
    "    bond_idx = np.zeros((n_atoms, n_atoms))\n",
    "\n",
    "    indices = np.triu_indices(47)\n",
    "\n",
    "    bond_idx[indices] = [float(item) for sublist in split_lines for item in sublist]\n",
    "    return bond_idx"
   ]
  },
  {
   "cell_type": "code",
   "execution_count": 5,
   "metadata": {},
   "outputs": [],
   "source": [
    "bonds = get_bond_indices('test.JANPA')"
   ]
  },
  {
   "cell_type": "code",
   "execution_count": 18,
   "metadata": {},
   "outputs": [],
   "source": [
    "for i in range(bonds.shape[0]):\n",
    "    for j in range(bonds.shape[1]):\n",
    "#         print(int(round(bonds[i, j])))\n",
    "        bonds[i, j] = int(round(bonds[i, j]))"
   ]
  },
  {
   "cell_type": "code",
   "execution_count": 25,
   "metadata": {},
   "outputs": [
    {
     "data": {
      "text/plain": [
       "(array([11, 18]), array([12, 19]))"
      ]
     },
     "execution_count": 25,
     "metadata": {},
     "output_type": "execute_result"
    }
   ],
   "source": [
    "np.where(np.triu(bonds, 1) == 2.)"
   ]
  },
  {
   "cell_type": "code",
   "execution_count": 29,
   "metadata": {},
   "outputs": [],
   "source": [
    "with open('atom_list.txt') as f:\n",
    "    atoms = f.readlines()"
   ]
  },
  {
   "cell_type": "code",
   "execution_count": 32,
   "metadata": {},
   "outputs": [],
   "source": [
    "atoms = [atom.strip() for atom in atoms]"
   ]
  },
  {
   "cell_type": "code",
   "execution_count": null,
   "metadata": {},
   "outputs": [],
   "source": [
    "mol = Chem.RWMol()\n",
    "\n",
    "for atom in atoms:\n",
    "    mol.AddAtom(Chem.Atom(atom))\n",
    "\n",
    "for i, j in zip(*np.where(cmat[:, :] == 1)):\n",
    "    mol.AddBond(int(i), int(j), Chem.BondType.SINGLE)\n",
    "\n",
    "for at in mol.GetAtoms():\n",
    "    at.SetNoImplicit(True)"
   ]
  }
 ],
 "metadata": {
  "kernelspec": {
   "display_name": "Python 3",
   "language": "python",
   "name": "python3"
  },
  "language_info": {
   "codemirror_mode": {
    "name": "ipython",
    "version": 3
   },
   "file_extension": ".py",
   "mimetype": "text/x-python",
   "name": "python",
   "nbconvert_exporter": "python",
   "pygments_lexer": "ipython3",
   "version": "3.6.1"
  }
 },
 "nbformat": 4,
 "nbformat_minor": 2
}
